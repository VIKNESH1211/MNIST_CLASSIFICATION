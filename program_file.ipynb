{
 "cells": [
  {
   "cell_type": "code",
   "execution_count": 44,
   "metadata": {},
   "outputs": [],
   "source": [
    "import tensorflow as tf\n",
    "from tensorflow import keras\n",
    "import numpy as np\n",
    "import matplotlib.pyplot as plt\n",
    "from keras.datasets import mnist"
   ]
  },
  {
   "cell_type": "code",
   "execution_count": 45,
   "metadata": {},
   "outputs": [
    {
     "name": "stdout",
     "output_type": "stream",
     "text": [
      "(60000, 28, 28) (60000,)\n"
     ]
    }
   ],
   "source": [
    "data_set = mnist\n",
    "\n",
    "(x_train,y_train),(x_test,y_test) = mnist.load_data()\n",
    "print(x_train.shape, y_train.shape)"
   ]
  },
  {
   "cell_type": "code",
   "execution_count": 46,
   "metadata": {},
   "outputs": [],
   "source": [
    "#normalize the data\n",
    "\n",
    "x_train ,x_test = x_train/255.0 , x_test/255.0\n"
   ]
  },
  {
   "cell_type": "code",
   "execution_count": 47,
   "metadata": {},
   "outputs": [
    {
     "data": {
      "image/png": "[encoded data removed]",
      "text/plain": [
       "<Figure size 432x288 with 6 Axes>"
      ]
     },
     "metadata": {
      "needs_background": "light"
     },
     "output_type": "display_data"
    }
   ],
   "source": [
    "#to display the images\n",
    "for i in range(6):\n",
    "    plt.subplot(2,3,i+1)\n",
    "    plt.imshow(x_train[i],cmap='gray')\n",
    "plt.show()"
   ]
  },
  {
   "cell_type": "code",
   "execution_count": 63,
   "metadata": {},
   "outputs": [],
   "source": [
    "# model\n",
    "model = tf.keras.models.Sequential([\n",
    "    keras.layers.Flatten(input_shape=(28,28)),\n",
    "    keras.layers.Dense(128 ,activation = 'relu'),\n",
    "    keras.layers.Dense(10),\n",
    "    keras.layers.Softmax()\n",
    "])"
   ]
  },
  {
   "cell_type": "code",
   "execution_count": null,
   "metadata": {},
   "outputs": [],
   "source": []
  },
  {
   "cell_type": "code",
   "execution_count": 64,
   "metadata": {},
   "outputs": [
    {
     "name": "stdout",
     "output_type": "stream",
     "text": [
      "Model: \"sequential_19\"\n",
      "_________________________________________________________________\n",
      " Layer (type)                Output Shape              Param #   \n",
      "=================================================================\n",
      " flatten_15 (Flatten)        (None, 784)               0         \n",
      "                                                                 \n",
      " dense_28 (Dense)            (None, 128)               100480    \n",
      "                                                                 \n",
      " dense_29 (Dense)            (None, 10)                1290      \n",
      "                                                                 \n",
      " softmax (Softmax)           (None, 10)                0         \n",
      "                                                                 \n",
      "=================================================================\n",
      "Total params: 101,770\n",
      "Trainable params: 101,770\n",
      "Non-trainable params: 0\n",
      "_________________________________________________________________\n"
     ]
    }
   ],
   "source": [
    "model.summary()"
   ]
  },
  {
   "cell_type": "code",
   "execution_count": 66,
   "metadata": {},
   "outputs": [],
   "source": [
    "#loss and optimiser\n",
    "loss = keras.losses.sparse_categorical_crossentropy\n",
    "optim = keras.optimizers.Adam(learning_rate=0.001)\n",
    "metrics =[\"accuracy\"]"
   ]
  },
  {
   "cell_type": "code",
   "execution_count": 67,
   "metadata": {},
   "outputs": [],
   "source": [
    "model.compile(loss = loss , optimizer=optim , metrics=metrics)"
   ]
  },
  {
   "cell_type": "code",
   "execution_count": 70,
   "metadata": {},
   "outputs": [
    {
     "name": "stdout",
     "output_type": "stream",
     "text": [
      "Epoch 1/10\n",
      "938/938 [==============================] - 1s 1ms/step - loss: 0.0477 - accuracy: 0.9862\n",
      "Epoch 2/10\n",
      "938/938 [==============================] - 1s 1ms/step - loss: 0.0390 - accuracy: 0.9884\n",
      "Epoch 3/10\n",
      "938/938 [==============================] - 1s 1ms/step - loss: 0.0316 - accuracy: 0.9904\n",
      "Epoch 4/10\n",
      "938/938 [==============================] - 1s 1ms/step - loss: 0.0268 - accuracy: 0.9923\n",
      "Epoch 5/10\n",
      "938/938 [==============================] - 1s 1ms/step - loss: 0.0222 - accuracy: 0.9936\n",
      "Epoch 6/10\n",
      "938/938 [==============================] - 1s 1ms/step - loss: 0.0176 - accuracy: 0.9953\n",
      "Epoch 7/10\n",
      "938/938 [==============================] - 1s 1ms/step - loss: 0.0162 - accuracy: 0.9955\n",
      "Epoch 8/10\n",
      "938/938 [==============================] - 1s 1ms/step - loss: 0.0134 - accuracy: 0.9963\n",
      "Epoch 9/10\n",
      "938/938 [==============================] - 1s 1ms/step - loss: 0.0109 - accuracy: 0.9970\n",
      "Epoch 10/10\n",
      "938/938 [==============================] - 1s 1ms/step - loss: 0.0095 - accuracy: 0.9976\n"
     ]
    },
    {
     "data": {
      "text/plain": [
       "<keras.callbacks.History at 0x1c35187f3a0>"
      ]
     },
     "execution_count": 70,
     "metadata": {},
     "output_type": "execute_result"
    }
   ],
   "source": [
    "#training\n",
    "batch_size = 64\n",
    "epochs = 10\n",
    "\n",
    "model.fit(x_train ,y_train , batch_size = batch_size , epochs = epochs ,shuffle=True ,verbose= 1)"
   ]
  },
  {
   "cell_type": "code",
   "execution_count": 71,
   "metadata": {},
   "outputs": [
    {
     "name": "stdout",
     "output_type": "stream",
     "text": [
      "157/157 [==============================] - 0s 901us/step - loss: 0.0810 - accuracy: 0.9786\n"
     ]
    },
    {
     "data": {
      "text/plain": [
       "[0.08098943531513214, 0.978600025177002]"
      ]
     },
     "execution_count": 71,
     "metadata": {},
     "output_type": "execute_result"
    }
   ],
   "source": [
    "#evalvuate the model\n",
    "model.evaluate(x_test,y_test, batch_size =batch_size ,verbose= 1)"
   ]
  },
  {
   "cell_type": "code",
   "execution_count": 73,
   "metadata": {},
   "outputs": [
    {
     "name": "stdout",
     "output_type": "stream",
     "text": [
      "313/313 [==============================] - 0s 671us/step\n"
     ]
    }
   ],
   "source": [
    "#prdiction\n",
    "y_pred = model.predict(x_test)"
   ]
  },
  {
   "cell_type": "code",
   "execution_count": 87,
   "metadata": {},
   "outputs": [
    {
     "data": {
      "text/plain": [
       "[array([[-0.0752134 , -0.05148867, -0.03085791, ...,  0.02838098,\n",
       "          0.05055732, -0.0145397 ],\n",
       "        [-0.05999284,  0.02531558,  0.05726407, ..., -0.0755206 ,\n",
       "         -0.00120679,  0.06020965],\n",
       "        [-0.06957795, -0.00833742,  0.06539927, ...,  0.05730393,\n",
       "          0.02760736, -0.04513542],\n",
       "        ...,\n",
       "        [ 0.01527658,  0.01477002, -0.04780308, ..., -0.06915173,\n",
       "          0.07794037, -0.01675826],\n",
       "        [ 0.03820842, -0.01226791, -0.04554135, ..., -0.02315529,\n",
       "         -0.0745978 , -0.01143547],\n",
       "        [-0.01402586,  0.02773567, -0.07232176, ...,  0.04319301,\n",
       "          0.07635366, -0.07890299]], dtype=float32),\n",
       " array([ 0.30259427, -0.08985037, -0.14301096, -0.02524285, -0.11977986,\n",
       "        -0.07684338, -0.07514037, -0.01240297, -0.15331408, -0.02457972,\n",
       "         0.22897564, -0.09123969, -0.06718618,  0.1403346 , -0.14423391,\n",
       "        -0.06233506,  0.01826939, -0.10289853, -0.01579062,  0.182828  ,\n",
       "         0.21812242,  0.19495861,  0.21634401, -0.11054827,  0.16287535,\n",
       "        -0.00344227,  0.00130825, -0.04324237,  0.11010452,  0.00228391,\n",
       "         0.14885595,  0.037623  ,  0.18038411, -0.14984335,  0.09984136,\n",
       "        -0.00775651,  0.04174251,  0.0802929 , -0.05307459, -0.14271353,\n",
       "         0.05861335, -0.04958973,  0.11386786,  0.02747765,  0.22238438,\n",
       "         0.03244055,  0.06352043, -0.13620886,  0.16385895, -0.10816617,\n",
       "         0.0678286 , -0.06379934,  0.1978666 ,  0.13082145, -0.01713645,\n",
       "         0.07990312,  0.05026536,  0.02143103,  0.32886386, -0.26200825,\n",
       "         0.02836472,  0.26804537,  0.078449  ,  0.02311045, -0.07241934,\n",
       "         0.07166851, -0.02416624,  0.11413931, -0.10728587,  0.1913884 ,\n",
       "        -0.13714111, -0.05629049,  0.2156034 ,  0.0287234 ,  0.31517208,\n",
       "        -0.0176248 ,  0.01541371, -0.01406227, -0.0104159 , -0.18935929,\n",
       "         0.1267352 , -0.0994817 , -0.11265675, -0.16603245,  0.06395998,\n",
       "         0.10766374, -0.12649775,  0.21720862,  0.0672581 , -0.01663784,\n",
       "         0.2808525 , -0.00825306, -0.18110268,  0.04806707,  0.0670652 ,\n",
       "        -0.02071197,  0.21871929,  0.01227995,  0.19685204,  0.17119269,\n",
       "        -0.01701935,  0.03509907, -0.06090544,  0.09692255,  0.07277907,\n",
       "        -0.11050496, -0.12173884,  0.04693659,  0.10457023,  0.13724954,\n",
       "         0.06773353,  0.08124886,  0.1152829 ,  0.198249  , -0.23046462,\n",
       "         0.01520024,  0.09761483, -0.11422841,  0.09526188, -0.27446043,\n",
       "         0.22784223,  0.02238184, -0.05823651,  0.1636303 ,  0.08147483,\n",
       "         0.10543976,  0.1402974 ,  0.0187641 ], dtype=float32),\n",
       " array([[ 0.02791155,  0.11230855, -0.6441508 , ..., -0.5562033 ,\n",
       "         -0.23981513,  0.34861383],\n",
       "        [-0.73775715, -0.09627002,  0.39030445, ...,  0.16006447,\n",
       "          0.22875862, -0.82164663],\n",
       "        [ 0.18034029,  0.03231865,  0.36256427, ...,  0.02291467,\n",
       "         -0.14428094, -0.26224124],\n",
       "        ...,\n",
       "        [ 0.20270784, -0.41653267, -0.8556082 , ...,  0.3745666 ,\n",
       "         -0.12924656, -0.38337973],\n",
       "        [ 0.17280088,  0.32012287,  0.00243026, ..., -0.19386317,\n",
       "          0.04818777,  0.14997457],\n",
       "        [-0.7204449 ,  0.1413489 , -0.6303405 , ...,  0.0779238 ,\n",
       "         -1.114576  ,  0.42116556]], dtype=float32),\n",
       " array([-0.04448796, -0.073657  , -0.008252  , -0.24418785,  0.09999525,\n",
       "         0.04013031,  0.10689728, -0.22717829,  0.25968555,  0.06296922],\n",
       "       dtype=float32)]"
      ]
     },
     "execution_count": 87,
     "metadata": {},
     "output_type": "execute_result"
    }
   ],
   "source": [
    "model.get_weights()"
   ]
  },
  {
   "cell_type": "code",
   "execution_count": 88,
   "metadata": {},
   "outputs": [],
   "source": [
    "model.save('mnist.hdf5')"
   ]
  }
 ],
 "metadata": {
  "kernelspec": {
   "display_name": "Python 3.9.12 ('base')",
   "language": "python",
   "name": "python3"
  },
  "language_info": {
   "codemirror_mode": {
    "name": "ipython",
    "version": 3
   },
   "file_extension": ".py",
   "mimetype": "text/x-python",
   "name": "python",
   "nbconvert_exporter": "python",
   "pygments_lexer": "ipython3",
   "version": "3.9.12"
  },
  "orig_nbformat": 4,
  "vscode": {
   "interpreter": {
    "hash": "6fa20e30b057ebd6b5c548a33de14789bcd1ee59bdb1d8aadd5188efa915b212"
   }
  }
 },
 "nbformat": 4,
 "nbformat_minor": 2
}
